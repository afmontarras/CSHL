{
 "cells": [
  {
   "cell_type": "code",
   "execution_count": null,
   "metadata": {
    "collapsed": true
   },
   "outputs": [],
   "source": [
    "import tdms\n",
    "import imp\n",
    "imp.reload(tdms)\n",
    "import plot\n",
    "import functions\n",
    "import numpy as np\n",
    "import matplotlib\n",
    "%matplotlib notebook\n",
    "\n",
    "import matplotlib.pyplot as plt\n",
    "import matplotlib.gridspec as gridspec"
   ]
  },
  {
   "cell_type": "markdown",
   "metadata": {},
   "source": [
    "# Open file & plot traces"
   ]
  },
  {
   "cell_type": "code",
   "execution_count": null,
   "metadata": {
    "collapsed": true
   },
   "outputs": [],
   "source": [
    "# data = tdms.read_tdms(\"/Volumes/DATA/data/tdms/D2-vc-060717-vc2-1.tdms\")\n",
    "# data = tdms.read_tdms(\"/Volumes/DATA/data/tdms/CHSL-6.8.1701-9VCLAMPNACURRENT.tdms\")\n",
    "# data = tdms.read_tdms(\"/Volumes/DATA/data/tdms/CHSL-6.8.1702-1.tdms\")\n",
    "data = tdms.read_tdms(\"/Users/cs/Downloads/CHSL-AL-IV-3-4-555576983.tdms\")"
   ]
  },
  {
   "cell_type": "code",
   "execution_count": null,
   "metadata": {},
   "outputs": [],
   "source": [
    "holding = -80"
   ]
  },
  {
   "cell_type": "code",
   "execution_count": null,
   "metadata": {
    "scrolled": false
   },
   "outputs": [],
   "source": [
    "fig, axi, axv = plot.plot_traces(mode='vclamp')\n",
    "\n",
    "for sweep, command in zip(data['AI0'], data['AO0']): \n",
    "    times = np.arange(sweep.shape[0])*data['dt']\n",
    "    axi.plot(times, sweep)\n",
    "    axv.plot(times, holding + command)\n",
    "\n",
    "plt.show()"
   ]
  },
  {
   "cell_type": "code",
   "execution_count": null,
   "metadata": {
    "collapsed": true
   },
   "outputs": [],
   "source": []
  }
 ],
 "metadata": {
  "kernelspec": {
   "display_name": "Python 2",
   "language": "python",
   "name": "python2"
  },
  "language_info": {
   "codemirror_mode": {
    "name": "ipython",
    "version": 2
   },
   "file_extension": ".py",
   "mimetype": "text/x-python",
   "name": "python",
   "nbconvert_exporter": "python",
   "pygments_lexer": "ipython2",
   "version": "2.7.13"
  }
 },
 "nbformat": 4,
 "nbformat_minor": 2
}
