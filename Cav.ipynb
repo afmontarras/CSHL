{
 "cells": [
  {
   "cell_type": "code",
   "execution_count": 1,
   "id": "d61f6c41-5049-4910-8205-2c591bba72cb",
   "metadata": {},
   "outputs": [],
   "source": [
    "from glob import glob\n",
    "import numpy as np\n",
    "import pyabf\n",
    "import matplotlib.pyplot as plt\n",
    "import matplotlib as mp\n",
    "from open_abf import plot_swps, get_sweeps, swp_window\n",
    "from scipy.optimize import leastsq\n",
    "import functions as func\n",
    "%matplotlib widget"
   ]
  },
  {
   "cell_type": "code",
   "execution_count": 2,
   "id": "16ed3c69-31bd-430b-b32d-dc14c96a9a46",
   "metadata": {},
   "outputs": [
    {
     "data": {
      "text/plain": [
       "['/home/alan/Documents/LAB/CSHL/Data/Kv',\n",
       " '/home/alan/Documents/LAB/CSHL/Data/Nav']"
      ]
     },
     "execution_count": 2,
     "metadata": {},
     "output_type": "execute_result"
    }
   ],
   "source": [
    "pathToData = \"/home/alan/Documents/LAB/CSHL/Data/\"\n",
    "folders = glob(pathToData+\"*\")\n",
    "folders"
   ]
  },
  {
   "cell_type": "code",
   "execution_count": 3,
   "id": "6f6f81ae-320b-4637-883f-1bd11deb7019",
   "metadata": {},
   "outputs": [
    {
     "data": {
      "text/plain": [
       "['/home/alan/Documents/LAB/CSHL/Data/Kv/2024_06_08_0003.abf',\n",
       " '/home/alan/Documents/LAB/CSHL/Data/Kv/2024_06_08_0007.abf',\n",
       " '/home/alan/Documents/LAB/CSHL/Data/Kv/2024_06_08_0004.abf',\n",
       " '/home/alan/Documents/LAB/CSHL/Data/Kv/2024_06_08_0002.abf',\n",
       " '/home/alan/Documents/LAB/CSHL/Data/Kv/2024_06_08_0001.abf',\n",
       " '/home/alan/Documents/LAB/CSHL/Data/Kv/2024_06_08_0005.abf',\n",
       " '/home/alan/Documents/LAB/CSHL/Data/Kv/2024_06_08_0006.abf']"
      ]
     },
     "execution_count": 3,
     "metadata": {},
     "output_type": "execute_result"
    }
   ],
   "source": [
    "files = glob(folders[0]+\"/*.abf\")\n",
    "files"
   ]
  },
  {
   "cell_type": "markdown",
   "id": "88db07df-8ef3-41ed-91e8-ecff1a85cbf7",
   "metadata": {},
   "source": [
    "### Ramp test"
   ]
  },
  {
   "cell_type": "code",
   "execution_count": null,
   "id": "9dd8610b-0eaf-4fd3-81ed-1d2ad48cdf30",
   "metadata": {},
   "outputs": [],
   "source": []
  },
  {
   "cell_type": "markdown",
   "id": "2b89d0a3-0d12-4254-b267-b98ebd48a243",
   "metadata": {},
   "source": [
    "### Activation"
   ]
  },
  {
   "cell_type": "markdown",
   "id": "7e191916-802c-4e9e-b1d8-1d700fb3bb51",
   "metadata": {},
   "source": [
    "### Inactivation"
   ]
  },
  {
   "cell_type": "code",
   "execution_count": null,
   "id": "d70f96dc-3d1a-4ab3-be17-6a197227868c",
   "metadata": {},
   "outputs": [],
   "source": []
  }
 ],
 "metadata": {
  "kernelspec": {
   "display_name": "Python 3 (ipykernel)",
   "language": "python",
   "name": "python3"
  },
  "language_info": {
   "codemirror_mode": {
    "name": "ipython",
    "version": 3
   },
   "file_extension": ".py",
   "mimetype": "text/x-python",
   "name": "python",
   "nbconvert_exporter": "python",
   "pygments_lexer": "ipython3",
   "version": "3.12.3"
  },
  "widgets": {
   "application/vnd.jupyter.widget-state+json": {
    "state": {},
    "version_major": 2,
    "version_minor": 0
   }
  }
 },
 "nbformat": 4,
 "nbformat_minor": 5
}
