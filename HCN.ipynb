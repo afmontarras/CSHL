{
 "cells": [
  {
   "cell_type": "code",
   "execution_count": 1,
   "id": "9667fd30-68a4-4470-83cf-cba6f4b368aa",
   "metadata": {},
   "outputs": [],
   "source": [
    "from glob import glob\n",
    "import numpy as np\n",
    "import pyabf\n",
    "import matplotlib.pyplot as plt\n",
    "import matplotlib as mp\n",
    "from open_abf import plot_swps, get_sweeps, swp_window, get_protocol, files_from_protocol\n",
    "from matplotlib.offsetbox import OffsetImage, AnnotationBbox\n",
    "from scipy.optimize import leastsq\n",
    "%matplotlib widget"
   ]
  },
  {
   "cell_type": "markdown",
   "id": "58bd96d3-4054-4786-87c7-dd8b9c6cd6ac",
   "metadata": {},
   "source": [
    "### Find you data"
   ]
  },
  {
   "cell_type": "code",
   "execution_count": 3,
   "id": "53667468-5c9a-46e0-a01a-583a6f300461",
   "metadata": {},
   "outputs": [
    {
     "data": {
      "text/plain": [
       "['/home/alan/Documents/LAB/CSHL/Data/Cav',\n",
       " '/home/alan/Documents/LAB/CSHL/Data/Kv',\n",
       " '/home/alan/Documents/LAB/CSHL/Data/_test.mat',\n",
       " '/home/alan/Documents/LAB/CSHL/Data/Gly',\n",
       " '/home/alan/Documents/LAB/CSHL/Data/HCN',\n",
       " '/home/alan/Documents/LAB/CSHL/Data/Nav']"
      ]
     },
     "execution_count": 3,
     "metadata": {},
     "output_type": "execute_result"
    }
   ],
   "source": [
    "pathToData = \"/home/alan/Documents/LAB/CSHL/Data/\"\n",
    "folders = glob(pathToData+\"*\")\n",
    "folders"
   ]
  },
  {
   "cell_type": "code",
   "execution_count": 4,
   "id": "1887eade-a333-489a-925e-bb5a602e9440",
   "metadata": {},
   "outputs": [
    {
     "data": {
      "text/plain": [
       "[]"
      ]
     },
     "execution_count": 4,
     "metadata": {},
     "output_type": "execute_result"
    }
   ],
   "source": [
    "files = glob(folders[-2]+\"/*.abf\")\n",
    "files"
   ]
  },
  {
   "cell_type": "code",
   "execution_count": 5,
   "id": "8343de28-f6bb-488f-bc3f-37141e50c49d",
   "metadata": {},
   "outputs": [
    {
     "data": {
      "text/plain": [
       "[]"
      ]
     },
     "execution_count": 5,
     "metadata": {},
     "output_type": "execute_result"
    }
   ],
   "source": [
    "get_protocol(files)"
   ]
  },
  {
   "cell_type": "markdown",
   "id": "c1dd1690-2daf-43e8-9b5b-572d28b52cba",
   "metadata": {},
   "source": [
    "### Choose your protocol and select the files. "
   ]
  },
  {
   "cell_type": "code",
   "execution_count": 6,
   "id": "5ff812ca-bf3d-40e9-91d9-dc3269e3a35f",
   "metadata": {},
   "outputs": [
    {
     "data": {
      "text/plain": [
       "[]"
      ]
     },
     "execution_count": 6,
     "metadata": {},
     "output_type": "execute_result"
    }
   ],
   "source": [
    "IV_files = files_from_protocol('IV',files)\n",
    "IV_files"
   ]
  },
  {
   "cell_type": "markdown",
   "id": "0c4f4d40-6cfa-4bcd-9ce2-4974352ff0d2",
   "metadata": {},
   "source": [
    "### Plot the recording"
   ]
  },
  {
   "cell_type": "code",
   "execution_count": 7,
   "id": "89f61268-9721-4ea4-869a-a5c94e7df819",
   "metadata": {},
   "outputs": [
    {
     "ename": "IndexError",
     "evalue": "list index out of range",
     "output_type": "error",
     "traceback": [
      "\u001b[0;31m---------------------------------------------------------------------------\u001b[0m",
      "\u001b[0;31mIndexError\u001b[0m                                Traceback (most recent call last)",
      "Cell \u001b[0;32mIn[7], line 2\u001b[0m\n\u001b[1;32m      1\u001b[0m plt\u001b[38;5;241m.\u001b[39mclose(\u001b[38;5;124m'\u001b[39m\u001b[38;5;124mall\u001b[39m\u001b[38;5;124m'\u001b[39m)\n\u001b[0;32m----> 2\u001b[0m f \u001b[38;5;241m=\u001b[39m \u001b[43mact_files\u001b[49m\u001b[43m[\u001b[49m\u001b[38;5;241;43m0\u001b[39;49m\u001b[43m]\u001b[49m\n\u001b[1;32m      3\u001b[0m plot_swps(f)\n",
      "\u001b[0;31mIndexError\u001b[0m: list index out of range"
     ]
    }
   ],
   "source": [
    "plt.close('all')\n",
    "f = act_files[0]\n",
    "plot_swps(f)"
   ]
  },
  {
   "cell_type": "markdown",
   "id": "d8b0df72-9f3c-4b28-9c58-4adaaae818bc",
   "metadata": {},
   "source": [
    "### Get the sweeps and compute the IV curve"
   ]
  },
  {
   "cell_type": "code",
   "execution_count": null,
   "id": "b305482d-6e4b-4471-85f0-59e1bd54da67",
   "metadata": {},
   "outputs": [],
   "source": [
    "swps, swp_time, sr = get_sweeps(f)\n",
    "## Calculate your Voltage steps :\n",
    "v_start = 0.1\n",
    "v_end = 0.2\n",
    "voltage = np.mean(swp_window(swps,v_start,v_end,sr,channel=1),axis=0)\n",
    "## Calculate the baseline current:\n",
    "i_start = 0\n",
    "i_end = 0.09\n",
    "current_baseline = np.mean(swp_window(swps,i_start,i_end,sr,channel=0),axis=1)\n",
    "## the pic response in your current:\n",
    "i_start = 0.1\n",
    "i_end = 0.2\n",
    "current_window = swp_window(swps,i_start,i_end,sr,channel=0)\n",
    "current_response = np.array([swp[np.argmax(np.abs(swp))] for swp in current_window])\n",
    "## Correct with baseline current:\n",
    "current_response -= current_baseline\n",
    "## normalise\n",
    "norm_currents = current_response / abs(current_response).max()"
   ]
  },
  {
   "cell_type": "code",
   "execution_count": 8,
   "id": "4abc3b32-67f5-445b-b5f1-e72777784132",
   "metadata": {},
   "outputs": [],
   "source": [
    "def IV_style(ax,\n",
    "            xcoord=(0.9, 0.4),\n",
    "            ycoord=(0.45, 0.9)):\n",
    "    ax.spines['left'].set_position('zero')\n",
    "    ax.spines['bottom'].set_position('zero')\n",
    "    ax.set_xlabel('V (mV)')\n",
    "    ax.set_ylabel('I/Cm (pA/pF)')\n",
    "    ax.spines['right'].set_visible(False)\n",
    "    ax.spines['top'].set_visible(False)\n",
    "    ax.xaxis.set_label_coords(xcoord[0], xcoord[1]) \n",
    "    ax.yaxis.set_label_coords(ycoord[0], ycoord[1])\n",
    "    # Customize ticks to remove the 0 ticks and labels\n",
    "    xticks = [tick for tick in ax.get_xticks() if tick != 0]\n",
    "    yticks = [tick for tick in ax.get_yticks() if tick != 0]\n",
    "    ax.set_xticks(xticks)\n",
    "    ax.set_yticks(yticks)"
   ]
  },
  {
   "cell_type": "code",
   "execution_count": 9,
   "id": "ff4fc5d3-56cd-4bc7-924e-e8a69d8346e1",
   "metadata": {},
   "outputs": [
    {
     "data": {
      "application/vnd.jupyter.widget-view+json": {
       "model_id": "faa5d103a7d144d9af953e17c2b5b444",
       "version_major": 2,
       "version_minor": 0
      },
      "image/png": "[encoded data removed]",
      "text/html": [
       "\n",
       "            <div style=\"display: inline-block;\">\n",
       "                <div class=\"jupyter-widgets widget-label\" style=\"text-align: center;\">\n",
       "                    Figure\n",
       "                </div>\n",
       "                <img src='data:image/png;base64,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' width=640.0/>\n",
       "            </div>\n",
       "        "
      ],
      "text/plain": [
       "Canvas(toolbar=Toolbar(toolitems=[('Home', 'Reset original view', 'home', 'home'), ('Back', 'Back to previous …"
      ]
     },
     "metadata": {},
     "output_type": "display_data"
    }
   ],
   "source": [
    "fig,ax = plt.subplots(2,sharex=True)\n",
    "ax[0].set_title(\"IV Curve\")\n",
    "ax[1].set_title(\"Normalise\")\n",
    "ax[0].plot(voltage_step,current_response,'-o')\n",
    "ax[1].plot(voltage_step,norm_g,'.')\n",
    "ax[0].set_ylabel('I')\n",
    "ax[1].set_xlabel('Voltage step (mV)')\n",
    "ax[1].set_ylabel('I/Imax')\n",
    "IV_style(ax[0], xcoord=(0.9, 0.4), ycoord=(0.45, 0.9))\n",
    "IV_style(ax[1], xcoord=(0.9, 0.4), ycoord=(0.45, 0.9))\n",
    "plt.show()"
   ]
  },
  {
   "cell_type": "markdown",
   "id": "a35602d2-7106-43a6-9470-7d906f2686b9",
   "metadata": {},
   "source": [
    "### Now You have the reversal potenttial you can calculate the channel conductance."
   ]
  },
  {
   "cell_type": "code",
   "execution_count": null,
   "id": "b5675b59-9a75-48ea-8004-03f715417cd2",
   "metadata": {},
   "outputs": [],
   "source": [
    "## reversal potential in mV\n",
    "E_rev = 0 ## from the IV curve\n",
    "conductance = np.abs(current_response/(voltage_step - E_rev))\n",
    "## normalise\n",
    "norm_g = conductance/conductance.max()\n",
    "fig, ax = plt.subplots(2,sharex=True)\n",
    "ax[0].plot(voltage_step,conductance,'.')\n",
    "ax[1].plot(voltage_step,norm_g,'.',label='Norm Conductance')\n",
    "ax[1].set_ylabel('normalise activation')\n",
    "ax[1].set_xlabel('Voltage step (mV)')\n",
    "ax[0].set_ylabel('Conductance (??)')\n",
    "ax[1].legend()\n",
    "plt.show()"
   ]
  },
  {
   "cell_type": "markdown",
   "id": "35e15510-8b0e-47d8-9957-a9d0b1a04495",
   "metadata": {},
   "source": [
    "### Fit the Activation curve"
   ]
  },
  {
   "cell_type": "code",
   "execution_count": null,
   "id": "3f96aac8-9f8b-41ff-b29b-7267157b11d8",
   "metadata": {},
   "outputs": [],
   "source": [
    "def fun_boltz(x, p):\n",
    "    \"\"\"Fit function for growth: single exponential + offset\n",
    "    p[0] : V 50\n",
    "    p[1] : slope\n",
    "    \"\"\"\n",
    "    return 1.0 - (1.0/(1.0+np.exp((x-p[0])/p[1])))\n",
    "\n",
    "def minimize_fun(p, x, y):\n",
    "    return y-fun_boltz(x, p)\n",
    "\n",
    "v50_init = 0.0\n",
    "slope_init = 1.0\n",
    "x = voltage_step\n",
    "y = norm_g\n",
    "p_guess = (v50_init,slope_init)\n",
    "fit_boltz = leastsq(minimize_fun, p_guess, args=(x, y),full_output=True)\n",
    "fit_params = fit_boltz[0]\n",
    "print(fit_boltz[0])\n",
    "fit_fun = fun_boltz(x,fit_params)\n",
    "ax[1].plot(x,fit_fun,label=f\"fit\\n slope={fit_params[1]}\\n V50={fit_params[0]} \")\n",
    "ax[1].legend()"
   ]
  },
  {
   "cell_type": "markdown",
   "id": "7d288489-8449-4410-b902-cb98094962b5",
   "metadata": {},
   "source": [
    "### Compare the activation curve from the I/Imax"
   ]
  },
  {
   "cell_type": "code",
   "execution_count": null,
   "id": "0c40d5dc-27eb-4de5-b803-3dbaefeba513",
   "metadata": {},
   "outputs": [],
   "source": [
    "fig, ax = plt.subplots(2,sharex=True)\n",
    "ax[0].plot(voltage_step,conductance,'.')\n",
    "ax[1].plot(voltage_step,norm_g,'.',label='Norm Conductance')\n",
    "ax[1].plot(voltage_step,norm_currents,'.',label='Norm Current')\n",
    "ax[1].set_ylabel('normalise activation')\n",
    "ax[1].set_xlabel('Voltage step (mV)')\n",
    "ax[0].set_ylabel('Conductance (??)')\n",
    "ax[1].legend()\n",
    "plt.show()"
   ]
  },
  {
   "cell_type": "markdown",
   "id": "9284e988-3665-4228-97ba-be4ccbd3dfb7",
   "metadata": {},
   "source": [
    "### Now Tail currents !"
   ]
  },
  {
   "cell_type": "code",
   "execution_count": 10,
   "id": "d15ab2df-3566-4a13-925f-489f2bc9724a",
   "metadata": {},
   "outputs": [],
   "source": [
    "def fit_exp(x_axis,ydata,p_guess):\n",
    "    def fun_exp(t, p):\n",
    "        \"\"\"Fit function for decay: single exponential + offset\n",
    "        p[0] : amplitude\n",
    "        p[1] : tau\n",
    "        \"\"\"\n",
    "        ## THIS IS CRUCIAL !\n",
    "        ## for a good fit you need to have the \n",
    "        ## params in the range of 0-1\n",
    "        amp = p[0] * 1e3 ## nA\n",
    "        tau = p[1] * 1e-3 # ms\n",
    "        # offset = p[2] * 1e3 ## pA\n",
    "        return 1 - (amp*np.exp(-t/tau))\n",
    "    \n",
    "    def minimize_fun(p, x, y):\n",
    "        return y-fun_exp(x, p)\n",
    "    \n",
    "    x = x_axis\n",
    "    y = ydata\n",
    "    fit_exp = leastsq(minimize_fun, p_guess, args=(x, y))\n",
    "    fit_params = fit_exp[0]\n",
    "    fit_trace = fun_exp(x,fit_params)\n",
    "    print(f'Amplitude = {round(fit_params[0]*1e3,1)} pA // Tau = {fit_params[1]*1e-3} ms')\n",
    "\n",
    "    return fit_params,fit_trace"
   ]
  },
  {
   "cell_type": "code",
   "execution_count": null,
   "id": "ef43795a-b097-4c61-bd3f-f9b2df7d3cb6",
   "metadata": {},
   "outputs": [],
   "source": [
    "# Set the real time end of the step.\n",
    "theorical_start = 0.71\n",
    "## then the window were you want to fit\n",
    "## Technically the start should be the same\n",
    "## But because of Cp transients you want to cut the begining.\n",
    "## Then the fit will extrapolate the first part of the trace.\n",
    "i_start = 0.7103 \n",
    "i_end = 0.7130\n",
    "tail_current = swp_window(swps,i_start,i_end,sr,channel=0)\n",
    "## normalise with baseline (end of tail =0 )\n",
    "baseline = np.mean(tail_current[:,-10:],axis=1)\n",
    "norm_tail_current = tail_current - baseline[:, np.newaxis]\n",
    "fig,ax = plt.subplots(2,sharex=True)\n",
    "ax[0].plot(tail_current.T)\n",
    "ax[1].plot(norm_tail_current.T)\n",
    "plt.show()"
   ]
  },
  {
   "cell_type": "code",
   "execution_count": null,
   "id": "08d9b744-8699-4815-8311-c519dc15af9f",
   "metadata": {},
   "outputs": [],
   "source": [
    "Cp_delta = i_start - theorical_start\n",
    "time = (np.arange(len(tail_current[0])) / sr ) + Cp_delta\n",
    "p_guess = [10000,100]\n",
    "p_gain = \n",
    "fig,ax = plt.subplots()\n",
    "cmap = mp.colormaps['viridis']\n",
    "fitted_params = []\n",
    "for i,curr in enumerate(norm_tail_current[:]):\n",
    "    print(f'Sweep {i}')\n",
    "    p_fit,t_fit = fit_exp(time,curr,p_guess)\n",
    "    fitted_params.append(p_fit)\n",
    "    color = cmap(i/len(tail_current))[:-1]\n",
    "    ax.plot(time,curr,color=color,alpha=0.4)\n",
    "    ax.plot(time,t_fit,'--',color=color,alpha=0.8)\n",
    "    ax.set_xlabel('Time (ms)')\n",
    "fitted_params = np.array(fitted_params) * np.array([1e3,1e-3])\n",
    "plt.show()"
   ]
  },
  {
   "cell_type": "code",
   "execution_count": null,
   "id": "c629ed63-4c34-4aa5-b194-77a58d4a2d5a",
   "metadata": {},
   "outputs": [],
   "source": []
  }
 ],
 "metadata": {
  "kernelspec": {
   "display_name": "Python 3 (ipykernel)",
   "language": "python",
   "name": "python3"
  },
  "language_info": {
   "codemirror_mode": {
    "name": "ipython",
    "version": 3
   },
   "file_extension": ".py",
   "mimetype": "text/x-python",
   "name": "python",
   "nbconvert_exporter": "python",
   "pygments_lexer": "ipython3",
   "version": "3.12.3"
  },
  "widgets": {
   "application/vnd.jupyter.widget-state+json": {
    "state": {
     "b80bf57dc65c4f0288e29fcf7fe28ff1": {
      "model_module": "jupyter-matplotlib",
      "model_module_version": "^0.11",
      "model_name": "ToolbarModel",
      "state": {
       "_model_module_version": "^0.11",
       "_view_module_version": "^0.11",
       "collapsed": true,
       "layout": "IPY_MODEL_fab0abcca47c4100900913e128d33433",
       "orientation": "vertical",
       "toolitems": [
        [
         "Home",
         "Reset original view",
         "home",
         "home"
        ],
        [
         "Back",
         "Back to previous view",
         "arrow-left",
         "back"
        ],
        [
         "Forward",
         "Forward to next view",
         "arrow-right",
         "forward"
        ],
        [
         "Pan",
         "Left button pans, Right button zooms\nx/y fixes axis, CTRL fixes aspect",
         "arrows",
         "pan"
        ],
        [
         "Zoom",
         "Zoom to rectangle\nx/y fixes axis",
         "square-o",
         "zoom"
        ],
        [
         "Download",
         "Download plot",
         "floppy-o",
         "save_figure"
        ]
       ]
      }
     },
     "d65908bb78f74e7ba502ad7ced05e7de": {
      "model_module": "@jupyter-widgets/base",
      "model_module_version": "2.0.0",
      "model_name": "LayoutModel",
      "state": {}
     },
     "faa5d103a7d144d9af953e17c2b5b444": {
      "model_module": "jupyter-matplotlib",
      "model_module_version": "^0.11",
      "model_name": "MPLCanvasModel",
      "state": {
       "_data_url": "data:image/png;base64,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",
       "_figure_label": "Figure 1",
       "_message": "x=0.200 y=0.931",
       "_model_module_version": "^0.11",
       "_size": [
        640,
        480
       ],
       "_view_module_version": "^0.11",
       "layout": "IPY_MODEL_d65908bb78f74e7ba502ad7ced05e7de",
       "toolbar": "IPY_MODEL_b80bf57dc65c4f0288e29fcf7fe28ff1",
       "toolbar_position": "left"
      }
     },
     "fab0abcca47c4100900913e128d33433": {
      "model_module": "@jupyter-widgets/base",
      "model_module_version": "2.0.0",
      "model_name": "LayoutModel",
      "state": {}
     }
    },
    "version_major": 2,
    "version_minor": 0
   }
  }
 },
 "nbformat": 4,
 "nbformat_minor": 5
}
